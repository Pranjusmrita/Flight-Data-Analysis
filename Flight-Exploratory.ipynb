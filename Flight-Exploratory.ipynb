{
 "cells": [
  {
   "cell_type": "markdown",
   "metadata": {},
   "source": [
    "## Flight Data Exploration"
   ]
  },
  {
   "cell_type": "code",
   "execution_count": 4,
   "metadata": {},
   "outputs": [],
   "source": [
    "#Importing libraries\n",
    "\n",
    "import os\n",
    "import pandas as pd\n",
    "import numpy as np\n",
    "import seaborn as sb\n",
    "import matplotlib.pyplot as plt\n",
    "%matplotlib inline\n",
    "import warnings"
   ]
  },
  {
   "cell_type": "markdown",
   "metadata": {},
   "source": [
    "#### Gathering data"
   ]
  },
  {
   "cell_type": "markdown",
   "metadata": {},
   "source": [
    "I have decided to combine data across four years for analysis."
   ]
  },
  {
   "cell_type": "code",
   "execution_count": 5,
   "metadata": {},
   "outputs": [],
   "source": [
    "#Reading csv files\n",
    "data_2003=pd.read_csv('2003.csv').sample(frac=0.05)"
   ]
  },
  {
   "cell_type": "code",
   "execution_count": 6,
   "metadata": {},
   "outputs": [],
   "source": [
    "data_2004=pd.read_csv('2004.csv').sample(frac=0.05)"
   ]
  },
  {
   "cell_type": "code",
   "execution_count": 7,
   "metadata": {},
   "outputs": [],
   "source": [
    "data_2005=pd.read_csv('2005.csv').sample(frac=0.05)"
   ]
  },
  {
   "cell_type": "code",
   "execution_count": 8,
   "metadata": {},
   "outputs": [],
   "source": [
    "data_2006=pd.read_csv('2006.csv').sample(frac=0.05)"
   ]
  },
  {
   "cell_type": "markdown",
   "metadata": {},
   "source": [
    "#### Combining the csv files into one single file"
   ]
  },
  {
   "cell_type": "code",
   "execution_count": 9,
   "metadata": {},
   "outputs": [],
   "source": [
    "# Using pandas concat function to combine all 4 dataframes\n",
    "frames=[data_2003,data_2004,data_2005,data_2006]\n",
    "flight_data = pd.concat(frames, axis=0, ignore_index=True)"
   ]
  },
  {
   "cell_type": "code",
   "execution_count": 7,
   "metadata": {},
   "outputs": [
    {
     "data": {
      "text/plain": [
       "(1395017, 29)"
      ]
     },
     "execution_count": 7,
     "metadata": {},
     "output_type": "execute_result"
    }
   ],
   "source": [
    "# Checking the dataframe's structure\n",
    "flight_data.shape"
   ]
  },
  {
   "cell_type": "code",
   "execution_count": 11,
   "metadata": {},
   "outputs": [],
   "source": [
    "# Maintaining copy of the data into a csv file\n",
    "flight_data.to_csv('Final_Flights1.csv')"
   ]
  },
  {
   "cell_type": "code",
   "execution_count": 9,
   "metadata": {},
   "outputs": [
    {
     "data": {
      "text/html": [
       "<div>\n",
       "<style scoped>\n",
       "    .dataframe tbody tr th:only-of-type {\n",
       "        vertical-align: middle;\n",
       "    }\n",
       "\n",
       "    .dataframe tbody tr th {\n",
       "        vertical-align: top;\n",
       "    }\n",
       "\n",
       "    .dataframe thead th {\n",
       "        text-align: right;\n",
       "    }\n",
       "</style>\n",
       "<table border=\"1\" class=\"dataframe\">\n",
       "  <thead>\n",
       "    <tr style=\"text-align: right;\">\n",
       "      <th></th>\n",
       "      <th>Year</th>\n",
       "      <th>Month</th>\n",
       "      <th>DayofMonth</th>\n",
       "      <th>DayOfWeek</th>\n",
       "      <th>DepTime</th>\n",
       "      <th>CRSDepTime</th>\n",
       "      <th>ArrTime</th>\n",
       "      <th>CRSArrTime</th>\n",
       "      <th>UniqueCarrier</th>\n",
       "      <th>FlightNum</th>\n",
       "      <th>...</th>\n",
       "      <th>TaxiIn</th>\n",
       "      <th>TaxiOut</th>\n",
       "      <th>Cancelled</th>\n",
       "      <th>CancellationCode</th>\n",
       "      <th>Diverted</th>\n",
       "      <th>CarrierDelay</th>\n",
       "      <th>WeatherDelay</th>\n",
       "      <th>NASDelay</th>\n",
       "      <th>SecurityDelay</th>\n",
       "      <th>LateAircraftDelay</th>\n",
       "    </tr>\n",
       "  </thead>\n",
       "  <tbody>\n",
       "    <tr>\n",
       "      <th>0</th>\n",
       "      <td>2003</td>\n",
       "      <td>7</td>\n",
       "      <td>4</td>\n",
       "      <td>5</td>\n",
       "      <td>1415.0</td>\n",
       "      <td>1415</td>\n",
       "      <td>1532.0</td>\n",
       "      <td>1540</td>\n",
       "      <td>WN</td>\n",
       "      <td>1489</td>\n",
       "      <td>...</td>\n",
       "      <td>4</td>\n",
       "      <td>7</td>\n",
       "      <td>0</td>\n",
       "      <td>NaN</td>\n",
       "      <td>0</td>\n",
       "      <td>0.0</td>\n",
       "      <td>0.0</td>\n",
       "      <td>0.0</td>\n",
       "      <td>0.0</td>\n",
       "      <td>0.0</td>\n",
       "    </tr>\n",
       "    <tr>\n",
       "      <th>1</th>\n",
       "      <td>2003</td>\n",
       "      <td>1</td>\n",
       "      <td>23</td>\n",
       "      <td>4</td>\n",
       "      <td>844.0</td>\n",
       "      <td>845</td>\n",
       "      <td>1016.0</td>\n",
       "      <td>1016</td>\n",
       "      <td>UA</td>\n",
       "      <td>581</td>\n",
       "      <td>...</td>\n",
       "      <td>4</td>\n",
       "      <td>21</td>\n",
       "      <td>0</td>\n",
       "      <td>NaN</td>\n",
       "      <td>0</td>\n",
       "      <td>NaN</td>\n",
       "      <td>NaN</td>\n",
       "      <td>NaN</td>\n",
       "      <td>NaN</td>\n",
       "      <td>NaN</td>\n",
       "    </tr>\n",
       "    <tr>\n",
       "      <th>2</th>\n",
       "      <td>2003</td>\n",
       "      <td>8</td>\n",
       "      <td>30</td>\n",
       "      <td>6</td>\n",
       "      <td>1053.0</td>\n",
       "      <td>1100</td>\n",
       "      <td>1152.0</td>\n",
       "      <td>1210</td>\n",
       "      <td>MQ</td>\n",
       "      <td>5012</td>\n",
       "      <td>...</td>\n",
       "      <td>4</td>\n",
       "      <td>12</td>\n",
       "      <td>0</td>\n",
       "      <td>NaN</td>\n",
       "      <td>0</td>\n",
       "      <td>0.0</td>\n",
       "      <td>0.0</td>\n",
       "      <td>0.0</td>\n",
       "      <td>0.0</td>\n",
       "      <td>0.0</td>\n",
       "    </tr>\n",
       "    <tr>\n",
       "      <th>3</th>\n",
       "      <td>2003</td>\n",
       "      <td>6</td>\n",
       "      <td>3</td>\n",
       "      <td>2</td>\n",
       "      <td>1233.0</td>\n",
       "      <td>1235</td>\n",
       "      <td>1955.0</td>\n",
       "      <td>1957</td>\n",
       "      <td>NW</td>\n",
       "      <td>278</td>\n",
       "      <td>...</td>\n",
       "      <td>8</td>\n",
       "      <td>12</td>\n",
       "      <td>0</td>\n",
       "      <td>NaN</td>\n",
       "      <td>0</td>\n",
       "      <td>0.0</td>\n",
       "      <td>0.0</td>\n",
       "      <td>0.0</td>\n",
       "      <td>0.0</td>\n",
       "      <td>0.0</td>\n",
       "    </tr>\n",
       "    <tr>\n",
       "      <th>4</th>\n",
       "      <td>2003</td>\n",
       "      <td>6</td>\n",
       "      <td>23</td>\n",
       "      <td>1</td>\n",
       "      <td>623.0</td>\n",
       "      <td>625</td>\n",
       "      <td>708.0</td>\n",
       "      <td>708</td>\n",
       "      <td>XE</td>\n",
       "      <td>2676</td>\n",
       "      <td>...</td>\n",
       "      <td>4</td>\n",
       "      <td>19</td>\n",
       "      <td>0</td>\n",
       "      <td>NaN</td>\n",
       "      <td>0</td>\n",
       "      <td>0.0</td>\n",
       "      <td>0.0</td>\n",
       "      <td>0.0</td>\n",
       "      <td>0.0</td>\n",
       "      <td>0.0</td>\n",
       "    </tr>\n",
       "  </tbody>\n",
       "</table>\n",
       "<p>5 rows × 29 columns</p>\n",
       "</div>"
      ],
      "text/plain": [
       "   Year  Month  DayofMonth  DayOfWeek  DepTime  CRSDepTime  ArrTime  \\\n",
       "0  2003      7           4          5   1415.0        1415   1532.0   \n",
       "1  2003      1          23          4    844.0         845   1016.0   \n",
       "2  2003      8          30          6   1053.0        1100   1152.0   \n",
       "3  2003      6           3          2   1233.0        1235   1955.0   \n",
       "4  2003      6          23          1    623.0         625    708.0   \n",
       "\n",
       "   CRSArrTime UniqueCarrier  FlightNum        ...         TaxiIn  TaxiOut  \\\n",
       "0        1540            WN       1489        ...              4        7   \n",
       "1        1016            UA        581        ...              4       21   \n",
       "2        1210            MQ       5012        ...              4       12   \n",
       "3        1957            NW        278        ...              8       12   \n",
       "4         708            XE       2676        ...              4       19   \n",
       "\n",
       "   Cancelled  CancellationCode  Diverted  CarrierDelay WeatherDelay NASDelay  \\\n",
       "0          0               NaN         0           0.0          0.0      0.0   \n",
       "1          0               NaN         0           NaN          NaN      NaN   \n",
       "2          0               NaN         0           0.0          0.0      0.0   \n",
       "3          0               NaN         0           0.0          0.0      0.0   \n",
       "4          0               NaN         0           0.0          0.0      0.0   \n",
       "\n",
       "   SecurityDelay  LateAircraftDelay  \n",
       "0            0.0                0.0  \n",
       "1            NaN                NaN  \n",
       "2            0.0                0.0  \n",
       "3            0.0                0.0  \n",
       "4            0.0                0.0  \n",
       "\n",
       "[5 rows x 29 columns]"
      ]
     },
     "execution_count": 9,
     "metadata": {},
     "output_type": "execute_result"
    }
   ],
   "source": [
    "#Displaying first few rows of the dataframe\n",
    "flight_data.head()"
   ]
  },
  {
   "cell_type": "code",
   "execution_count": null,
   "metadata": {},
   "outputs": [],
   "source": [
    "# Changing data type of 'DepTime','ArrTime','CRSDepTime','CRSArrTime' from int64 to datetime\n",
    "flight_data['DepTime']=pd.to_datetime(flight_data['DepTime'])\n",
    "flight_data['CRSDepTime']=pd.to_datetime(flight_data['CRSDepTime'])\n",
    "flight_data['ArrTime']=pd.to_datetime(flight_data['ArrTime'])\n",
    "flight_data['CRSArrTime']=pd.to_datetime(flight_data['CRSArrTime'])"
   ]
  },
  {
   "cell_type": "markdown",
   "metadata": {},
   "source": [
    "### Univariate Exploration"
   ]
  },
  {
   "cell_type": "code",
   "execution_count": 2,
   "metadata": {},
   "outputs": [],
   "source": [
    "flight_data=pd.read_csv('Final_Flights.csv')"
   ]
  },
  {
   "cell_type": "code",
   "execution_count": 10,
   "metadata": {},
   "outputs": [
    {
     "data": {
      "text/html": [
       "<div>\n",
       "<style scoped>\n",
       "    .dataframe tbody tr th:only-of-type {\n",
       "        vertical-align: middle;\n",
       "    }\n",
       "\n",
       "    .dataframe tbody tr th {\n",
       "        vertical-align: top;\n",
       "    }\n",
       "\n",
       "    .dataframe thead th {\n",
       "        text-align: right;\n",
       "    }\n",
       "</style>\n",
       "<table border=\"1\" class=\"dataframe\">\n",
       "  <thead>\n",
       "    <tr style=\"text-align: right;\">\n",
       "      <th></th>\n",
       "      <th>Year</th>\n",
       "      <th>Month</th>\n",
       "      <th>DayofMonth</th>\n",
       "      <th>DayOfWeek</th>\n",
       "      <th>DepTime</th>\n",
       "      <th>CRSDepTime</th>\n",
       "      <th>ArrTime</th>\n",
       "      <th>CRSArrTime</th>\n",
       "      <th>FlightNum</th>\n",
       "      <th>ActualElapsedTime</th>\n",
       "      <th>...</th>\n",
       "      <th>Distance</th>\n",
       "      <th>TaxiIn</th>\n",
       "      <th>TaxiOut</th>\n",
       "      <th>Cancelled</th>\n",
       "      <th>Diverted</th>\n",
       "      <th>CarrierDelay</th>\n",
       "      <th>WeatherDelay</th>\n",
       "      <th>NASDelay</th>\n",
       "      <th>SecurityDelay</th>\n",
       "      <th>LateAircraftDelay</th>\n",
       "    </tr>\n",
       "  </thead>\n",
       "  <tbody>\n",
       "    <tr>\n",
       "      <th>count</th>\n",
       "      <td>1.395017e+06</td>\n",
       "      <td>1.395017e+06</td>\n",
       "      <td>1.395017e+06</td>\n",
       "      <td>1.395017e+06</td>\n",
       "      <td>1.370866e+06</td>\n",
       "      <td>1.395017e+06</td>\n",
       "      <td>1.368069e+06</td>\n",
       "      <td>1.395017e+06</td>\n",
       "      <td>1.395017e+06</td>\n",
       "      <td>1.368069e+06</td>\n",
       "      <td>...</td>\n",
       "      <td>1.395017e+06</td>\n",
       "      <td>1.395017e+06</td>\n",
       "      <td>1.395017e+06</td>\n",
       "      <td>1.395017e+06</td>\n",
       "      <td>1.395017e+06</td>\n",
       "      <td>1.261168e+06</td>\n",
       "      <td>1.261168e+06</td>\n",
       "      <td>1.261168e+06</td>\n",
       "      <td>1.261168e+06</td>\n",
       "      <td>1.261168e+06</td>\n",
       "    </tr>\n",
       "    <tr>\n",
       "      <th>mean</th>\n",
       "      <td>2.004535e+03</td>\n",
       "      <td>6.533692e+00</td>\n",
       "      <td>1.573373e+01</td>\n",
       "      <td>3.941825e+00</td>\n",
       "      <td>1.343998e+03</td>\n",
       "      <td>1.338012e+03</td>\n",
       "      <td>1.494430e+03</td>\n",
       "      <td>1.501821e+03</td>\n",
       "      <td>2.087742e+03</td>\n",
       "      <td>1.242228e+02</td>\n",
       "      <td>...</td>\n",
       "      <td>7.197940e+02</td>\n",
       "      <td>7.367465e+00</td>\n",
       "      <td>1.550267e+01</td>\n",
       "      <td>1.731233e-02</td>\n",
       "      <td>2.004993e-03</td>\n",
       "      <td>2.897603e+00</td>\n",
       "      <td>6.513415e-01</td>\n",
       "      <td>3.399860e+00</td>\n",
       "      <td>2.490945e-02</td>\n",
       "      <td>3.686739e+00</td>\n",
       "    </tr>\n",
       "    <tr>\n",
       "      <th>std</th>\n",
       "      <td>1.107174e+00</td>\n",
       "      <td>3.429372e+00</td>\n",
       "      <td>8.793223e+00</td>\n",
       "      <td>1.989977e+00</td>\n",
       "      <td>4.731126e+02</td>\n",
       "      <td>4.615704e+02</td>\n",
       "      <td>4.947213e+02</td>\n",
       "      <td>4.765459e+02</td>\n",
       "      <td>1.933889e+03</td>\n",
       "      <td>7.066738e+01</td>\n",
       "      <td>...</td>\n",
       "      <td>5.705439e+02</td>\n",
       "      <td>3.966772e+01</td>\n",
       "      <td>1.212400e+01</td>\n",
       "      <td>1.304325e-01</td>\n",
       "      <td>4.473226e-02</td>\n",
       "      <td>1.722806e+01</td>\n",
       "      <td>8.377085e+00</td>\n",
       "      <td>1.490194e+01</td>\n",
       "      <td>1.145070e+00</td>\n",
       "      <td>1.763312e+01</td>\n",
       "    </tr>\n",
       "    <tr>\n",
       "      <th>min</th>\n",
       "      <td>2.003000e+03</td>\n",
       "      <td>1.000000e+00</td>\n",
       "      <td>1.000000e+00</td>\n",
       "      <td>1.000000e+00</td>\n",
       "      <td>1.000000e+00</td>\n",
       "      <td>3.000000e+00</td>\n",
       "      <td>1.000000e+00</td>\n",
       "      <td>0.000000e+00</td>\n",
       "      <td>1.000000e+00</td>\n",
       "      <td>-5.450000e+02</td>\n",
       "      <td>...</td>\n",
       "      <td>1.100000e+01</td>\n",
       "      <td>0.000000e+00</td>\n",
       "      <td>0.000000e+00</td>\n",
       "      <td>0.000000e+00</td>\n",
       "      <td>0.000000e+00</td>\n",
       "      <td>0.000000e+00</td>\n",
       "      <td>0.000000e+00</td>\n",
       "      <td>-2.400000e+01</td>\n",
       "      <td>0.000000e+00</td>\n",
       "      <td>0.000000e+00</td>\n",
       "    </tr>\n",
       "    <tr>\n",
       "      <th>25%</th>\n",
       "      <td>2.004000e+03</td>\n",
       "      <td>4.000000e+00</td>\n",
       "      <td>8.000000e+00</td>\n",
       "      <td>2.000000e+00</td>\n",
       "      <td>9.350000e+02</td>\n",
       "      <td>9.330000e+02</td>\n",
       "      <td>1.117000e+03</td>\n",
       "      <td>1.122000e+03</td>\n",
       "      <td>5.870000e+02</td>\n",
       "      <td>7.300000e+01</td>\n",
       "      <td>...</td>\n",
       "      <td>3.080000e+02</td>\n",
       "      <td>4.000000e+00</td>\n",
       "      <td>1.000000e+01</td>\n",
       "      <td>0.000000e+00</td>\n",
       "      <td>0.000000e+00</td>\n",
       "      <td>0.000000e+00</td>\n",
       "      <td>0.000000e+00</td>\n",
       "      <td>0.000000e+00</td>\n",
       "      <td>0.000000e+00</td>\n",
       "      <td>0.000000e+00</td>\n",
       "    </tr>\n",
       "    <tr>\n",
       "      <th>50%</th>\n",
       "      <td>2.005000e+03</td>\n",
       "      <td>7.000000e+00</td>\n",
       "      <td>1.600000e+01</td>\n",
       "      <td>4.000000e+00</td>\n",
       "      <td>1.330000e+03</td>\n",
       "      <td>1.327000e+03</td>\n",
       "      <td>1.521000e+03</td>\n",
       "      <td>1.524000e+03</td>\n",
       "      <td>1.439000e+03</td>\n",
       "      <td>1.050000e+02</td>\n",
       "      <td>...</td>\n",
       "      <td>5.540000e+02</td>\n",
       "      <td>5.000000e+00</td>\n",
       "      <td>1.300000e+01</td>\n",
       "      <td>0.000000e+00</td>\n",
       "      <td>0.000000e+00</td>\n",
       "      <td>0.000000e+00</td>\n",
       "      <td>0.000000e+00</td>\n",
       "      <td>0.000000e+00</td>\n",
       "      <td>0.000000e+00</td>\n",
       "      <td>0.000000e+00</td>\n",
       "    </tr>\n",
       "    <tr>\n",
       "      <th>75%</th>\n",
       "      <td>2.006000e+03</td>\n",
       "      <td>1.000000e+01</td>\n",
       "      <td>2.300000e+01</td>\n",
       "      <td>6.000000e+00</td>\n",
       "      <td>1.732000e+03</td>\n",
       "      <td>1.725000e+03</td>\n",
       "      <td>1.913000e+03</td>\n",
       "      <td>1.910000e+03</td>\n",
       "      <td>3.113000e+03</td>\n",
       "      <td>1.550000e+02</td>\n",
       "      <td>...</td>\n",
       "      <td>9.480000e+02</td>\n",
       "      <td>7.000000e+00</td>\n",
       "      <td>1.800000e+01</td>\n",
       "      <td>0.000000e+00</td>\n",
       "      <td>0.000000e+00</td>\n",
       "      <td>0.000000e+00</td>\n",
       "      <td>0.000000e+00</td>\n",
       "      <td>0.000000e+00</td>\n",
       "      <td>0.000000e+00</td>\n",
       "      <td>0.000000e+00</td>\n",
       "    </tr>\n",
       "    <tr>\n",
       "      <th>max</th>\n",
       "      <td>2.006000e+03</td>\n",
       "      <td>1.200000e+01</td>\n",
       "      <td>3.100000e+01</td>\n",
       "      <td>7.000000e+00</td>\n",
       "      <td>2.655000e+03</td>\n",
       "      <td>2.359000e+03</td>\n",
       "      <td>2.735000e+03</td>\n",
       "      <td>2.400000e+03</td>\n",
       "      <td>9.584000e+03</td>\n",
       "      <td>1.797000e+03</td>\n",
       "      <td>...</td>\n",
       "      <td>4.962000e+03</td>\n",
       "      <td>1.479000e+03</td>\n",
       "      <td>1.439000e+03</td>\n",
       "      <td>1.000000e+00</td>\n",
       "      <td>1.000000e+00</td>\n",
       "      <td>1.277000e+03</td>\n",
       "      <td>8.980000e+02</td>\n",
       "      <td>1.010000e+03</td>\n",
       "      <td>2.630000e+02</td>\n",
       "      <td>1.099000e+03</td>\n",
       "    </tr>\n",
       "  </tbody>\n",
       "</table>\n",
       "<p>8 rows × 24 columns</p>\n",
       "</div>"
      ],
      "text/plain": [
       "               Year         Month    DayofMonth     DayOfWeek       DepTime  \\\n",
       "count  1.395017e+06  1.395017e+06  1.395017e+06  1.395017e+06  1.370866e+06   \n",
       "mean   2.004535e+03  6.533692e+00  1.573373e+01  3.941825e+00  1.343998e+03   \n",
       "std    1.107174e+00  3.429372e+00  8.793223e+00  1.989977e+00  4.731126e+02   \n",
       "min    2.003000e+03  1.000000e+00  1.000000e+00  1.000000e+00  1.000000e+00   \n",
       "25%    2.004000e+03  4.000000e+00  8.000000e+00  2.000000e+00  9.350000e+02   \n",
       "50%    2.005000e+03  7.000000e+00  1.600000e+01  4.000000e+00  1.330000e+03   \n",
       "75%    2.006000e+03  1.000000e+01  2.300000e+01  6.000000e+00  1.732000e+03   \n",
       "max    2.006000e+03  1.200000e+01  3.100000e+01  7.000000e+00  2.655000e+03   \n",
       "\n",
       "         CRSDepTime       ArrTime    CRSArrTime     FlightNum  \\\n",
       "count  1.395017e+06  1.368069e+06  1.395017e+06  1.395017e+06   \n",
       "mean   1.338012e+03  1.494430e+03  1.501821e+03  2.087742e+03   \n",
       "std    4.615704e+02  4.947213e+02  4.765459e+02  1.933889e+03   \n",
       "min    3.000000e+00  1.000000e+00  0.000000e+00  1.000000e+00   \n",
       "25%    9.330000e+02  1.117000e+03  1.122000e+03  5.870000e+02   \n",
       "50%    1.327000e+03  1.521000e+03  1.524000e+03  1.439000e+03   \n",
       "75%    1.725000e+03  1.913000e+03  1.910000e+03  3.113000e+03   \n",
       "max    2.359000e+03  2.735000e+03  2.400000e+03  9.584000e+03   \n",
       "\n",
       "       ActualElapsedTime        ...              Distance        TaxiIn  \\\n",
       "count       1.368069e+06        ...          1.395017e+06  1.395017e+06   \n",
       "mean        1.242228e+02        ...          7.197940e+02  7.367465e+00   \n",
       "std         7.066738e+01        ...          5.705439e+02  3.966772e+01   \n",
       "min        -5.450000e+02        ...          1.100000e+01  0.000000e+00   \n",
       "25%         7.300000e+01        ...          3.080000e+02  4.000000e+00   \n",
       "50%         1.050000e+02        ...          5.540000e+02  5.000000e+00   \n",
       "75%         1.550000e+02        ...          9.480000e+02  7.000000e+00   \n",
       "max         1.797000e+03        ...          4.962000e+03  1.479000e+03   \n",
       "\n",
       "            TaxiOut     Cancelled      Diverted  CarrierDelay  WeatherDelay  \\\n",
       "count  1.395017e+06  1.395017e+06  1.395017e+06  1.261168e+06  1.261168e+06   \n",
       "mean   1.550267e+01  1.731233e-02  2.004993e-03  2.897603e+00  6.513415e-01   \n",
       "std    1.212400e+01  1.304325e-01  4.473226e-02  1.722806e+01  8.377085e+00   \n",
       "min    0.000000e+00  0.000000e+00  0.000000e+00  0.000000e+00  0.000000e+00   \n",
       "25%    1.000000e+01  0.000000e+00  0.000000e+00  0.000000e+00  0.000000e+00   \n",
       "50%    1.300000e+01  0.000000e+00  0.000000e+00  0.000000e+00  0.000000e+00   \n",
       "75%    1.800000e+01  0.000000e+00  0.000000e+00  0.000000e+00  0.000000e+00   \n",
       "max    1.439000e+03  1.000000e+00  1.000000e+00  1.277000e+03  8.980000e+02   \n",
       "\n",
       "           NASDelay  SecurityDelay  LateAircraftDelay  \n",
       "count  1.261168e+06   1.261168e+06       1.261168e+06  \n",
       "mean   3.399860e+00   2.490945e-02       3.686739e+00  \n",
       "std    1.490194e+01   1.145070e+00       1.763312e+01  \n",
       "min   -2.400000e+01   0.000000e+00       0.000000e+00  \n",
       "25%    0.000000e+00   0.000000e+00       0.000000e+00  \n",
       "50%    0.000000e+00   0.000000e+00       0.000000e+00  \n",
       "75%    0.000000e+00   0.000000e+00       0.000000e+00  \n",
       "max    1.010000e+03   2.630000e+02       1.099000e+03  \n",
       "\n",
       "[8 rows x 24 columns]"
      ]
     },
     "execution_count": 10,
     "metadata": {},
     "output_type": "execute_result"
    }
   ],
   "source": [
    "flight_data.describe()"
   ]
  },
  {
   "cell_type": "code",
   "execution_count": 28,
   "metadata": {},
   "outputs": [
    {
     "name": "stdout",
     "output_type": "stream",
     "text": [
      "<class 'pandas.core.frame.DataFrame'>\n",
      "RangeIndex: 1395017 entries, 0 to 1395016\n",
      "Data columns (total 29 columns):\n",
      "Year                 1395017 non-null int64\n",
      "Month                1395017 non-null int64\n",
      "DayofMonth           1395017 non-null int64\n",
      "DayOfWeek            1395017 non-null int64\n",
      "DepTime              1370958 non-null float64\n",
      "CRSDepTime           1395017 non-null int64\n",
      "ArrTime              1368181 non-null float64\n",
      "CRSArrTime           1395017 non-null int64\n",
      "UniqueCarrier        1395017 non-null object\n",
      "FlightNum            1395017 non-null int64\n",
      "TailNum              1393748 non-null object\n",
      "ActualElapsedTime    1368181 non-null float64\n",
      "CRSElapsedTime       1395017 non-null float64\n",
      "AirTime              1368181 non-null float64\n",
      "ArrDelay             1368181 non-null object\n",
      "DepDelay             1370958 non-null object\n",
      "Origin               1395017 non-null object\n",
      "Dest                 1395017 non-null object\n",
      "Distance             1395017 non-null int64\n",
      "TaxiIn               1395017 non-null int64\n",
      "TaxiOut              1395017 non-null int64\n",
      "Cancelled            1395017 non-null int64\n",
      "CancellationCode     21743 non-null object\n",
      "Diverted             1395017 non-null int64\n",
      "CarrierDelay         1261186 non-null float64\n",
      "WeatherDelay         1261186 non-null float64\n",
      "NASDelay             1261186 non-null float64\n",
      "SecurityDelay        1261186 non-null float64\n",
      "LateAircraftDelay    1261186 non-null float64\n",
      "dtypes: float64(10), int64(12), object(7)\n",
      "memory usage: 308.7+ MB\n"
     ]
    }
   ],
   "source": [
    "flight_data.info()"
   ]
  },
  {
   "cell_type": "markdown",
   "metadata": {},
   "source": [
    "### Univariate Exploration"
   ]
  },
  {
   "cell_type": "markdown",
   "metadata": {},
   "source": [
    "Checking the busiest day of the week. I have chosen a histogram here as I am dealing with a numeric value."
   ]
  },
  {
   "cell_type": "code",
   "execution_count": 79,
   "metadata": {},
   "outputs": [
    {
     "data": {
      "text/plain": [
       "Text(0.5,1,'Frequency of trips across different days of a week')"
      ]
     },
     "execution_count": 79,
     "metadata": {},
     "output_type": "execute_result"
    },
    {
     "data": {
      "image/png": "[encoded data removed]",
      "text/plain": [
       "<Figure size 720x360 with 1 Axes>"
      ]
     },
     "metadata": {
      "needs_background": "light"
     },
     "output_type": "display_data"
    }
   ],
   "source": [
    "# Setting the figure size and bin size for a more ploished plot\n",
    "\n",
    "plt.figure(figsize = [10, 5])\n",
    "bin_edges = np.arange(0, flight_data['DayOfWeek'].max()+1/3, 1/3)\n",
    "plt.hist(data = flight_data, x = 'DayOfWeek', bins = bin_edges)\n",
    "plt.xlabel('Day of the Week')\n",
    "plt.ylabel('Count')\n",
    "plt.title('Frequency of trips across different days of a week')"
   ]
  },
  {
   "cell_type": "markdown",
   "metadata": {},
   "source": [
    "Checking trips against each carrier. I have used a bar chart to plot this categorical value."
   ]
  },
  {
   "cell_type": "code",
   "execution_count": 72,
   "metadata": {},
   "outputs": [
    {
     "data": {
      "text/plain": [
       "Text(0.5,1,'Number of trips against different Carriers')"
      ]
     },
     "execution_count": 72,
     "metadata": {},
     "output_type": "execute_result"
    },
    {
     "data": {
      "image/png": "[encoded data removed]",
      "text/plain": [
       "<Figure size 720x360 with 1 Axes>"
      ]
     },
     "metadata": {
      "needs_background": "light"
     },
     "output_type": "display_data"
    }
   ],
   "source": [
    "plt.figure(figsize = [10, 5])\n",
    "carrier_order=flight_data['UniqueCarrier'].value_counts().index\n",
    "sb.countplot(data=flight_data, x='UniqueCarrier', order=carrier_order, color=base_color)\n",
    "# Rotation has been set for better readability of the labels\n",
    "plt.xticks(rotation=90)\n",
    "plt.xlabel('Flight Carrier Names')\n",
    "plt.ylabel('Count')\n",
    "plt.title('Number of trips against different Carriers')"
   ]
  },
  {
   "cell_type": "markdown",
   "metadata": {},
   "source": [
    "### Bivariate Exploration"
   ]
  },
  {
   "cell_type": "markdown",
   "metadata": {},
   "source": [
    "Calculating the total number of calculations against each destination."
   ]
  },
  {
   "cell_type": "code",
   "execution_count": null,
   "metadata": {},
   "outputs": [],
   "source": [
    "# Converting 'Cancelled' column to a categorical value\n",
    "flight_data['Cancelled'] = flight_data['Cancelled'].astype('category')"
   ]
  },
  {
   "cell_type": "code",
   "execution_count": 3,
   "metadata": {},
   "outputs": [],
   "source": [
    "df=flight_data.groupby('Dest')['Cancelled'].sum()"
   ]
  },
  {
   "cell_type": "code",
   "execution_count": 4,
   "metadata": {},
   "outputs": [
    {
     "data": {
      "text/plain": [
       "Dest\n",
       "ABE      23\n",
       "ABI      10\n",
       "ABQ      52\n",
       "ABY       9\n",
       "ACK       4\n",
       "ACT       9\n",
       "ACV      18\n",
       "ACY       5\n",
       "ADK       4\n",
       "ADQ      13\n",
       "AEX      17\n",
       "AGS      34\n",
       "AKN       5\n",
       "ALB      37\n",
       "AMA      21\n",
       "ANC     122\n",
       "APF       0\n",
       "ASE      10\n",
       "ATL    1829\n",
       "ATW      16\n",
       "AUS      91\n",
       "AVL      21\n",
       "AVP      14\n",
       "AZO      29\n",
       "BDL      94\n",
       "BET       5\n",
       "BFL       7\n",
       "BGM       8\n",
       "BGR      19\n",
       "BHM      50\n",
       "       ... \n",
       "SRQ      15\n",
       "STL     194\n",
       "STT       6\n",
       "STX       1\n",
       "SUN      21\n",
       "SWF       9\n",
       "SYR      34\n",
       "TEX       2\n",
       "TLH      17\n",
       "TOL      38\n",
       "TPA     129\n",
       "TRI      29\n",
       "TTN       0\n",
       "TUL      61\n",
       "TUP       3\n",
       "TUS      20\n",
       "TVC      12\n",
       "TWF      13\n",
       "TXK      10\n",
       "TYR       6\n",
       "TYS      45\n",
       "VCT       1\n",
       "VIS       9\n",
       "VLD       6\n",
       "VPS      27\n",
       "WRG       8\n",
       "WYS       0\n",
       "XNA      81\n",
       "YAK       9\n",
       "YUM       4\n",
       "Name: Cancelled, Length: 299, dtype: int64"
      ]
     },
     "execution_count": 4,
     "metadata": {},
     "output_type": "execute_result"
    }
   ],
   "source": [
    "df"
   ]
  },
  {
   "cell_type": "markdown",
   "metadata": {},
   "source": [
    "I have chosen a scatter plot to depict the relationship between two numeric values: Distance and Delay in Arrival."
   ]
  },
  {
   "cell_type": "code",
   "execution_count": 23,
   "metadata": {},
   "outputs": [
    {
     "data": {
      "text/plain": [
       "Text(0,0.5,'Arrival Delay')"
      ]
     },
     "execution_count": 23,
     "metadata": {},
     "output_type": "execute_result"
    },
    {
     "data": {
      "image/png": "[encoded data removed]",
      "text/plain": [
       "<Figure size 432x288 with 1 Axes>"
      ]
     },
     "metadata": {
      "needs_background": "light"
     },
     "output_type": "display_data"
    }
   ],
   "source": [
    "sb.regplot(data = flight_data, x = 'Distance', y = 'ArrDelay', fit_reg = False,\n",
    "           x_jitter = 0.2, y_jitter = 0.2, scatter_kws = {'alpha' : 1/3})\n",
    "plt.title('Distance vs Arrival Delay')\n",
    "plt.xlabel('Distance')\n",
    "plt.ylabel('Arrival Delay')"
   ]
  },
  {
   "cell_type": "markdown",
   "metadata": {},
   "source": [
    "I have plotted a clustered bar chart to show the change of factors for cancellations across the years."
   ]
  },
  {
   "cell_type": "code",
   "execution_count": 67,
   "metadata": {},
   "outputs": [
    {
     "data": {
      "text/plain": [
       "Text(0.5,1,'Change of factors for cancellations across the years')"
      ]
     },
     "execution_count": 67,
     "metadata": {},
     "output_type": "execute_result"
    },
    {
     "data": {
      "image/png": "[encoded data removed]",
      "text/plain": [
       "<Figure size 432x288 with 1 Axes>"
      ]
     },
     "metadata": {
      "needs_background": "light"
     },
     "output_type": "display_data"
    }
   ],
   "source": [
    "sb.countplot(data = flight_data, x = 'Year', hue = 'CancellationCode')\n",
    "# Listing all the factors that contribute to cancellations\n",
    "labels=['Carrier','Weather','NAS','Security']\n",
    "plt.legend(labels, loc = 2, ncol = 1, framealpha = 0.5, title = \"Code\")\n",
    "plt.xlabel('Year')\n",
    "plt.ylabel('Count')\n",
    "plt.title('Change of factors for cancellations across the years')\n"
   ]
  },
  {
   "cell_type": "markdown",
   "metadata": {},
   "source": [
    "Comparison between different variables for better exploration of data."
   ]
  },
  {
   "cell_type": "code",
   "execution_count": 82,
   "metadata": {},
   "outputs": [],
   "source": [
    "flight_data['Year']=flight_data['Year'].astype('category')"
   ]
  },
  {
   "cell_type": "code",
   "execution_count": 20,
   "metadata": {},
   "outputs": [
    {
     "name": "stderr",
     "output_type": "stream",
     "text": [
      "C:\\Users\\1022538\\AppData\\Local\\Continuum\\anaconda3\\lib\\site-packages\\seaborn\\axisgrid.py:230: UserWarning: The `size` paramter has been renamed to `height`; please update your code.\n",
      "  warnings.warn(msg, UserWarning)\n"
     ]
    },
    {
     "data": {
      "text/plain": [
       "<seaborn.axisgrid.FacetGrid at 0x3798f5d2b0>"
      ]
     },
     "execution_count": 20,
     "metadata": {},
     "output_type": "execute_result"
    },
    {
     "data": {
      "image/png": "[encoded data removed]",
      "text/plain": [
       "<Figure size 720x144 with 4 Axes>"
      ]
     },
     "metadata": {
      "needs_background": "light"
     },
     "output_type": "display_data"
    }
   ],
   "source": [
    "group_means = flight_data.groupby(['Year']).mean()\n",
    "group_order = group_means.sort_values(['AirTime'], ascending = False).index\n",
    "\n",
    "g = sb.FacetGrid(data = flight_data, col = 'Year', col_wrap = 4, size = 2,\n",
    "                 col_order = group_order)\n",
    "g.map(plt.hist, 'AirTime', bins = np.arange(5, 15+1, 1))\n",
    "g.set_titles('{col_name}')"
   ]
  },
  {
   "cell_type": "code",
   "execution_count": 29,
   "metadata": {},
   "outputs": [],
   "source": [
    "flight_data['ArrDelay']=flight_data['ArrDelay'].astype('float64')\n",
    "flight_data['DepDelay']=flight_data['DepDelay'].astype('float64')"
   ]
  },
  {
   "cell_type": "code",
   "execution_count": 31,
   "metadata": {},
   "outputs": [
    {
     "data": {
      "text/plain": [
       "[<matplotlib.lines.Line2D at 0x381529e9e8>]"
      ]
     },
     "execution_count": 31,
     "metadata": {},
     "output_type": "execute_result"
    },
    {
     "data": {
      "image/png": "[encoded data removed]",
      "text/plain": [
       "<Figure size 432x288 with 1 Axes>"
      ]
     },
     "metadata": {
      "needs_background": "light"
     },
     "output_type": "display_data"
    }
   ],
   "source": [
    "bin_size = 0.5\n",
    "bin_edges = np.arange(4, 18 + bin_size, bin_size)\n",
    "plt.hist(data = flight_data, x = 'ArrTime', bins = bin_edges);\n",
    "\n",
    "# overlay a theoretical normal distribution on top\n",
    "samp_mean = flight_data['ArrTime'].mean()\n",
    "samp_sd = flight_data['ArrTime'].std()\n",
    "\n",
    "from scipy.stats import norm\n",
    "x = np.linspace(4, 18, 200)\n",
    "y = norm.pdf(x, samp_mean, samp_sd) # normal distribution heights\n",
    "y *= flight_data.shape[0] * bin_size # scale the distribution height\n",
    "\n",
    "plt.plot(x, y)"
   ]
  },
  {
   "cell_type": "code",
   "execution_count": 32,
   "metadata": {},
   "outputs": [
    {
     "data": {
      "text/plain": [
       "Text(0,0.5,'Observed Values')"
      ]
     },
     "execution_count": 32,
     "metadata": {},
     "output_type": "execute_result"
    },
    {
     "data": {
      "image/png": "[encoded data removed]",
      "text/plain": [
       "<Figure size 432x288 with 1 Axes>"
      ]
     },
     "metadata": {
      "needs_background": "light"
     },
     "output_type": "display_data"
    }
   ],
   "source": [
    "n_points = flight_data.shape[0]\n",
    "qs = (np.arange(n_points) - .5) / n_points\n",
    "expected_vals = norm.ppf(qs, samp_mean, samp_sd)\n",
    "\n",
    "plt.scatter(expected_vals, flight_data['ArrTime'].sort_values())\n",
    "plt.plot([4,18],[4,18],'--', color = 'black')\n",
    "plt.axis('equal')\n",
    "plt.xlabel('Expected Values')\n",
    "plt.ylabel('Observed Values')"
   ]
  },
  {
   "cell_type": "code",
   "execution_count": 34,
   "metadata": {},
   "outputs": [
    {
     "data": {
      "text/plain": [
       "Text(0,0.5,'Observed Standard Scores')"
      ]
     },
     "execution_count": 34,
     "metadata": {},
     "output_type": "execute_result"
    },
    {
     "data": {
      "image/png": "[encoded data removed]",
      "text/plain": [
       "<Figure size 432x288 with 1 Axes>"
      ]
     },
     "metadata": {
      "needs_background": "light"
     },
     "output_type": "display_data"
    }
   ],
   "source": [
    "expected_scores = norm.ppf(qs)\n",
    "data_scores = (flight_data['ArrTime'].sort_values() - samp_mean) / samp_sd\n",
    "\n",
    "plt.scatter(expected_scores, data_scores)\n",
    "plt.plot([-2.5,3],[-2.5,3],'--', color = 'black')\n",
    "plt.axis('equal')\n",
    "plt.xlabel('Expected Standard Scores')\n",
    "plt.ylabel('Observed Standard Scores')"
   ]
  },
  {
   "cell_type": "code",
   "execution_count": null,
   "metadata": {},
   "outputs": [],
   "source": []
  },
  {
   "cell_type": "code",
   "execution_count": 12,
   "metadata": {},
   "outputs": [
    {
     "data": {
      "text/plain": [
       "<matplotlib.axes._subplots.AxesSubplot at 0x954e2314a8>"
      ]
     },
     "execution_count": 12,
     "metadata": {},
     "output_type": "execute_result"
    },
    {
     "data": {
      "image/png": "[encoded data removed]",
      "text/plain": [
       "<Figure size 432x288 with 2 Axes>"
      ]
     },
     "metadata": {
      "needs_background": "light"
     },
     "output_type": "display_data"
    }
   ],
   "source": [
    "cat_means = flight_data.groupby(['Year', 'Month']).mean()['DepDelay']\n",
    "cat_means = cat_means.reset_index(name = 'num_var2_avg')\n",
    "cat_means = cat_means.pivot(index = 'Month', columns = 'Year',\n",
    "                            values = 'num_var2_avg')\n",
    "sb.heatmap(cat_means, annot = True, fmt = '.3f',\n",
    "           cbar_kws = {'label' : 'mean(DepDelay)'})"
   ]
  },
  {
   "cell_type": "code",
   "execution_count": null,
   "metadata": {},
   "outputs": [],
   "source": []
  }
 ],
 "metadata": {
  "kernelspec": {
   "display_name": "Python 3",
   "language": "python",
   "name": "python3"
  },
  "language_info": {
   "codemirror_mode": {
    "name": "ipython",
    "version": 3
   },
   "file_extension": ".py",
   "mimetype": "text/x-python",
   "name": "python",
   "nbconvert_exporter": "python",
   "pygments_lexer": "ipython3",
   "version": "3.7.1"
  }
 },
 "nbformat": 4,
 "nbformat_minor": 2
}
