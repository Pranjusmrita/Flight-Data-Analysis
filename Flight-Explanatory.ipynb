{
 "cells": [
  {
   "cell_type": "markdown",
   "metadata": {
    "slideshow": {
     "slide_type": "slide"
    }
   },
   "source": [
    "## Flight Data Explanation and Visualisation\n",
    "> This data set will allow us to analyze information regarding multiple flight carriers flying between multiple cities across the years."
   ]
  },
  {
   "cell_type": "code",
   "execution_count": null,
   "metadata": {
    "slideshow": {
     "slide_type": "skip"
    }
   },
   "outputs": [],
   "source": [
    "import os\n",
    "import pandas as pd\n",
    "import numpy as np\n",
    "import seaborn as sb\n",
    "import matplotlib.pyplot as plt\n",
    "%matplotlib inline\n",
    "import warnings"
   ]
  },
  {
   "cell_type": "code",
   "execution_count": 16,
   "metadata": {
    "slideshow": {
     "slide_type": "skip"
    }
   },
   "outputs": [],
   "source": [
    "df1=pd.read_csv('2003.csv').sample(frac=0.05)"
   ]
  },
  {
   "cell_type": "code",
   "execution_count": 18,
   "metadata": {
    "slideshow": {
     "slide_type": "skip"
    }
   },
   "outputs": [],
   "source": [
    "df2=pd.read_csv('2004.csv').sample(frac=0.05)"
   ]
  },
  {
   "cell_type": "code",
   "execution_count": 19,
   "metadata": {
    "slideshow": {
     "slide_type": "skip"
    }
   },
   "outputs": [],
   "source": [
    "df3=pd.read_csv('2005.csv').sample(frac=0.05)"
   ]
  },
  {
   "cell_type": "code",
   "execution_count": 20,
   "metadata": {
    "slideshow": {
     "slide_type": "skip"
    }
   },
   "outputs": [],
   "source": [
    "df4=pd.read_csv('2006.csv').sample(frac=0.05)"
   ]
  },
  {
   "cell_type": "code",
   "execution_count": 37,
   "metadata": {
    "slideshow": {
     "slide_type": "skip"
    }
   },
   "outputs": [],
   "source": [
    "frames=[df1,df2,df3,df4]\n",
    "flight_data = pd.concat(frames, axis=0, ignore_index=True)"
   ]
  },
  {
   "cell_type": "code",
   "execution_count": 42,
   "metadata": {
    "slideshow": {
     "slide_type": "skip"
    }
   },
   "outputs": [
    {
     "data": {
      "text/plain": [
       "(1395017, 29)"
      ]
     },
     "execution_count": 42,
     "metadata": {},
     "output_type": "execute_result"
    }
   ],
   "source": [
    "flight_data.shape"
   ]
  },
  {
   "cell_type": "code",
   "execution_count": 40,
   "metadata": {
    "slideshow": {
     "slide_type": "skip"
    }
   },
   "outputs": [],
   "source": [
    "flight_data.to_csv('Final_Flights.csv')"
   ]
  },
  {
   "cell_type": "code",
   "execution_count": 41,
   "metadata": {
    "slideshow": {
     "slide_type": "skip"
    }
   },
   "outputs": [
    {
     "data": {
      "text/html": [
       "<div>\n",
       "<style scoped>\n",
       "    .dataframe tbody tr th:only-of-type {\n",
       "        vertical-align: middle;\n",
       "    }\n",
       "\n",
       "    .dataframe tbody tr th {\n",
       "        vertical-align: top;\n",
       "    }\n",
       "\n",
       "    .dataframe thead th {\n",
       "        text-align: right;\n",
       "    }\n",
       "</style>\n",
       "<table border=\"1\" class=\"dataframe\">\n",
       "  <thead>\n",
       "    <tr style=\"text-align: right;\">\n",
       "      <th></th>\n",
       "      <th>Year</th>\n",
       "      <th>Month</th>\n",
       "      <th>DayofMonth</th>\n",
       "      <th>DayOfWeek</th>\n",
       "      <th>DepTime</th>\n",
       "      <th>CRSDepTime</th>\n",
       "      <th>ArrTime</th>\n",
       "      <th>CRSArrTime</th>\n",
       "      <th>UniqueCarrier</th>\n",
       "      <th>FlightNum</th>\n",
       "      <th>...</th>\n",
       "      <th>TaxiIn</th>\n",
       "      <th>TaxiOut</th>\n",
       "      <th>Cancelled</th>\n",
       "      <th>CancellationCode</th>\n",
       "      <th>Diverted</th>\n",
       "      <th>CarrierDelay</th>\n",
       "      <th>WeatherDelay</th>\n",
       "      <th>NASDelay</th>\n",
       "      <th>SecurityDelay</th>\n",
       "      <th>LateAircraftDelay</th>\n",
       "    </tr>\n",
       "  </thead>\n",
       "  <tbody>\n",
       "    <tr>\n",
       "      <th>0</th>\n",
       "      <td>2003</td>\n",
       "      <td>11</td>\n",
       "      <td>8</td>\n",
       "      <td>6</td>\n",
       "      <td>1155.0</td>\n",
       "      <td>1200</td>\n",
       "      <td>1454.0</td>\n",
       "      <td>1515</td>\n",
       "      <td>XE</td>\n",
       "      <td>2378</td>\n",
       "      <td>...</td>\n",
       "      <td>11</td>\n",
       "      <td>11</td>\n",
       "      <td>0</td>\n",
       "      <td>NaN</td>\n",
       "      <td>0</td>\n",
       "      <td>0.0</td>\n",
       "      <td>0.0</td>\n",
       "      <td>0.0</td>\n",
       "      <td>0.0</td>\n",
       "      <td>0.0</td>\n",
       "    </tr>\n",
       "    <tr>\n",
       "      <th>1</th>\n",
       "      <td>2003</td>\n",
       "      <td>7</td>\n",
       "      <td>2</td>\n",
       "      <td>3</td>\n",
       "      <td>1205.0</td>\n",
       "      <td>1206</td>\n",
       "      <td>1403.0</td>\n",
       "      <td>1408</td>\n",
       "      <td>AA</td>\n",
       "      <td>805</td>\n",
       "      <td>...</td>\n",
       "      <td>7</td>\n",
       "      <td>16</td>\n",
       "      <td>0</td>\n",
       "      <td>NaN</td>\n",
       "      <td>0</td>\n",
       "      <td>0.0</td>\n",
       "      <td>0.0</td>\n",
       "      <td>0.0</td>\n",
       "      <td>0.0</td>\n",
       "      <td>0.0</td>\n",
       "    </tr>\n",
       "    <tr>\n",
       "      <th>2</th>\n",
       "      <td>2003</td>\n",
       "      <td>3</td>\n",
       "      <td>8</td>\n",
       "      <td>6</td>\n",
       "      <td>1426.0</td>\n",
       "      <td>1435</td>\n",
       "      <td>1741.0</td>\n",
       "      <td>1745</td>\n",
       "      <td>UA</td>\n",
       "      <td>1546</td>\n",
       "      <td>...</td>\n",
       "      <td>9</td>\n",
       "      <td>8</td>\n",
       "      <td>0</td>\n",
       "      <td>NaN</td>\n",
       "      <td>0</td>\n",
       "      <td>NaN</td>\n",
       "      <td>NaN</td>\n",
       "      <td>NaN</td>\n",
       "      <td>NaN</td>\n",
       "      <td>NaN</td>\n",
       "    </tr>\n",
       "    <tr>\n",
       "      <th>3</th>\n",
       "      <td>2003</td>\n",
       "      <td>3</td>\n",
       "      <td>20</td>\n",
       "      <td>4</td>\n",
       "      <td>1533.0</td>\n",
       "      <td>1528</td>\n",
       "      <td>1852.0</td>\n",
       "      <td>1718</td>\n",
       "      <td>MQ</td>\n",
       "      <td>4277</td>\n",
       "      <td>...</td>\n",
       "      <td>3</td>\n",
       "      <td>109</td>\n",
       "      <td>0</td>\n",
       "      <td>NaN</td>\n",
       "      <td>0</td>\n",
       "      <td>NaN</td>\n",
       "      <td>NaN</td>\n",
       "      <td>NaN</td>\n",
       "      <td>NaN</td>\n",
       "      <td>NaN</td>\n",
       "    </tr>\n",
       "    <tr>\n",
       "      <th>4</th>\n",
       "      <td>2003</td>\n",
       "      <td>8</td>\n",
       "      <td>3</td>\n",
       "      <td>7</td>\n",
       "      <td>1010.0</td>\n",
       "      <td>1010</td>\n",
       "      <td>1112.0</td>\n",
       "      <td>1115</td>\n",
       "      <td>WN</td>\n",
       "      <td>1571</td>\n",
       "      <td>...</td>\n",
       "      <td>2</td>\n",
       "      <td>17</td>\n",
       "      <td>0</td>\n",
       "      <td>NaN</td>\n",
       "      <td>0</td>\n",
       "      <td>0.0</td>\n",
       "      <td>0.0</td>\n",
       "      <td>0.0</td>\n",
       "      <td>0.0</td>\n",
       "      <td>0.0</td>\n",
       "    </tr>\n",
       "  </tbody>\n",
       "</table>\n",
       "<p>5 rows × 29 columns</p>\n",
       "</div>"
      ],
      "text/plain": [
       "   Year  Month  DayofMonth  DayOfWeek  DepTime  CRSDepTime  ArrTime  \\\n",
       "0  2003     11           8          6   1155.0        1200   1454.0   \n",
       "1  2003      7           2          3   1205.0        1206   1403.0   \n",
       "2  2003      3           8          6   1426.0        1435   1741.0   \n",
       "3  2003      3          20          4   1533.0        1528   1852.0   \n",
       "4  2003      8           3          7   1010.0        1010   1112.0   \n",
       "\n",
       "   CRSArrTime UniqueCarrier  FlightNum        ...         TaxiIn  TaxiOut  \\\n",
       "0        1515            XE       2378        ...             11       11   \n",
       "1        1408            AA        805        ...              7       16   \n",
       "2        1745            UA       1546        ...              9        8   \n",
       "3        1718            MQ       4277        ...              3      109   \n",
       "4        1115            WN       1571        ...              2       17   \n",
       "\n",
       "   Cancelled  CancellationCode  Diverted  CarrierDelay WeatherDelay NASDelay  \\\n",
       "0          0               NaN         0           0.0          0.0      0.0   \n",
       "1          0               NaN         0           0.0          0.0      0.0   \n",
       "2          0               NaN         0           NaN          NaN      NaN   \n",
       "3          0               NaN         0           NaN          NaN      NaN   \n",
       "4          0               NaN         0           0.0          0.0      0.0   \n",
       "\n",
       "   SecurityDelay  LateAircraftDelay  \n",
       "0            0.0                0.0  \n",
       "1            0.0                0.0  \n",
       "2            NaN                NaN  \n",
       "3            NaN                NaN  \n",
       "4            0.0                0.0  \n",
       "\n",
       "[5 rows x 29 columns]"
      ]
     },
     "execution_count": 41,
     "metadata": {},
     "output_type": "execute_result"
    }
   ],
   "source": [
    "flight_data.head()"
   ]
  },
  {
   "cell_type": "code",
   "execution_count": 2,
   "metadata": {
    "slideshow": {
     "slide_type": "skip"
    }
   },
   "outputs": [],
   "source": [
    "flight_data=pd.read_csv('Final_Flights.csv')"
   ]
  },
  {
   "cell_type": "code",
   "execution_count": 48,
   "metadata": {
    "slideshow": {
     "slide_type": "skip"
    }
   },
   "outputs": [
    {
     "data": {
      "text/html": [
       "<div>\n",
       "<style scoped>\n",
       "    .dataframe tbody tr th:only-of-type {\n",
       "        vertical-align: middle;\n",
       "    }\n",
       "\n",
       "    .dataframe tbody tr th {\n",
       "        vertical-align: top;\n",
       "    }\n",
       "\n",
       "    .dataframe thead th {\n",
       "        text-align: right;\n",
       "    }\n",
       "</style>\n",
       "<table border=\"1\" class=\"dataframe\">\n",
       "  <thead>\n",
       "    <tr style=\"text-align: right;\">\n",
       "      <th></th>\n",
       "      <th>Unnamed: 0</th>\n",
       "      <th>Year</th>\n",
       "      <th>Month</th>\n",
       "      <th>DayofMonth</th>\n",
       "      <th>DayOfWeek</th>\n",
       "      <th>DepTime</th>\n",
       "      <th>CRSDepTime</th>\n",
       "      <th>ArrTime</th>\n",
       "      <th>CRSArrTime</th>\n",
       "      <th>FlightNum</th>\n",
       "      <th>...</th>\n",
       "      <th>Distance</th>\n",
       "      <th>TaxiIn</th>\n",
       "      <th>TaxiOut</th>\n",
       "      <th>Cancelled</th>\n",
       "      <th>Diverted</th>\n",
       "      <th>CarrierDelay</th>\n",
       "      <th>WeatherDelay</th>\n",
       "      <th>NASDelay</th>\n",
       "      <th>SecurityDelay</th>\n",
       "      <th>LateAircraftDelay</th>\n",
       "    </tr>\n",
       "  </thead>\n",
       "  <tbody>\n",
       "    <tr>\n",
       "      <th>count</th>\n",
       "      <td>1.395017e+06</td>\n",
       "      <td>1.395017e+06</td>\n",
       "      <td>1.395017e+06</td>\n",
       "      <td>1.395017e+06</td>\n",
       "      <td>1.395017e+06</td>\n",
       "      <td>1.370838e+06</td>\n",
       "      <td>1.395017e+06</td>\n",
       "      <td>1.368009e+06</td>\n",
       "      <td>1.395017e+06</td>\n",
       "      <td>1.395017e+06</td>\n",
       "      <td>...</td>\n",
       "      <td>1.395017e+06</td>\n",
       "      <td>1.395017e+06</td>\n",
       "      <td>1.395017e+06</td>\n",
       "      <td>1.395017e+06</td>\n",
       "      <td>1.395017e+06</td>\n",
       "      <td>1.261812e+06</td>\n",
       "      <td>1.261812e+06</td>\n",
       "      <td>1.261812e+06</td>\n",
       "      <td>1.261812e+06</td>\n",
       "      <td>1.261812e+06</td>\n",
       "    </tr>\n",
       "    <tr>\n",
       "      <th>mean</th>\n",
       "      <td>6.975080e+05</td>\n",
       "      <td>2.004535e+03</td>\n",
       "      <td>6.532720e+00</td>\n",
       "      <td>1.574324e+01</td>\n",
       "      <td>3.942771e+00</td>\n",
       "      <td>1.343672e+03</td>\n",
       "      <td>1.337725e+03</td>\n",
       "      <td>1.494657e+03</td>\n",
       "      <td>1.501985e+03</td>\n",
       "      <td>2.082906e+03</td>\n",
       "      <td>...</td>\n",
       "      <td>7.202732e+02</td>\n",
       "      <td>7.385074e+00</td>\n",
       "      <td>1.552721e+01</td>\n",
       "      <td>1.733241e-02</td>\n",
       "      <td>2.027932e-03</td>\n",
       "      <td>2.937387e+00</td>\n",
       "      <td>6.613053e-01</td>\n",
       "      <td>3.418085e+00</td>\n",
       "      <td>2.459479e-02</td>\n",
       "      <td>3.681158e+00</td>\n",
       "    </tr>\n",
       "    <tr>\n",
       "      <th>std</th>\n",
       "      <td>4.027069e+05</td>\n",
       "      <td>1.107174e+00</td>\n",
       "      <td>3.429083e+00</td>\n",
       "      <td>8.794494e+00</td>\n",
       "      <td>1.988232e+00</td>\n",
       "      <td>4.732748e+02</td>\n",
       "      <td>4.616320e+02</td>\n",
       "      <td>4.949544e+02</td>\n",
       "      <td>4.766588e+02</td>\n",
       "      <td>1.932383e+03</td>\n",
       "      <td>...</td>\n",
       "      <td>5.708966e+02</td>\n",
       "      <td>3.980247e+01</td>\n",
       "      <td>1.257788e+01</td>\n",
       "      <td>1.305067e-01</td>\n",
       "      <td>4.498690e-02</td>\n",
       "      <td>1.773186e+01</td>\n",
       "      <td>8.324370e+00</td>\n",
       "      <td>1.505016e+01</td>\n",
       "      <td>1.182373e+00</td>\n",
       "      <td>1.760667e+01</td>\n",
       "    </tr>\n",
       "    <tr>\n",
       "      <th>min</th>\n",
       "      <td>0.000000e+00</td>\n",
       "      <td>2.003000e+03</td>\n",
       "      <td>1.000000e+00</td>\n",
       "      <td>1.000000e+00</td>\n",
       "      <td>1.000000e+00</td>\n",
       "      <td>1.000000e+00</td>\n",
       "      <td>3.000000e+00</td>\n",
       "      <td>1.000000e+00</td>\n",
       "      <td>0.000000e+00</td>\n",
       "      <td>1.000000e+00</td>\n",
       "      <td>...</td>\n",
       "      <td>1.200000e+01</td>\n",
       "      <td>0.000000e+00</td>\n",
       "      <td>0.000000e+00</td>\n",
       "      <td>0.000000e+00</td>\n",
       "      <td>0.000000e+00</td>\n",
       "      <td>0.000000e+00</td>\n",
       "      <td>0.000000e+00</td>\n",
       "      <td>-6.000000e+01</td>\n",
       "      <td>0.000000e+00</td>\n",
       "      <td>0.000000e+00</td>\n",
       "    </tr>\n",
       "    <tr>\n",
       "      <th>25%</th>\n",
       "      <td>3.487540e+05</td>\n",
       "      <td>2.004000e+03</td>\n",
       "      <td>4.000000e+00</td>\n",
       "      <td>8.000000e+00</td>\n",
       "      <td>2.000000e+00</td>\n",
       "      <td>9.350000e+02</td>\n",
       "      <td>9.330000e+02</td>\n",
       "      <td>1.117000e+03</td>\n",
       "      <td>1.123000e+03</td>\n",
       "      <td>5.840000e+02</td>\n",
       "      <td>...</td>\n",
       "      <td>3.080000e+02</td>\n",
       "      <td>4.000000e+00</td>\n",
       "      <td>1.000000e+01</td>\n",
       "      <td>0.000000e+00</td>\n",
       "      <td>0.000000e+00</td>\n",
       "      <td>0.000000e+00</td>\n",
       "      <td>0.000000e+00</td>\n",
       "      <td>0.000000e+00</td>\n",
       "      <td>0.000000e+00</td>\n",
       "      <td>0.000000e+00</td>\n",
       "    </tr>\n",
       "    <tr>\n",
       "      <th>50%</th>\n",
       "      <td>6.975080e+05</td>\n",
       "      <td>2.005000e+03</td>\n",
       "      <td>7.000000e+00</td>\n",
       "      <td>1.600000e+01</td>\n",
       "      <td>4.000000e+00</td>\n",
       "      <td>1.330000e+03</td>\n",
       "      <td>1.326000e+03</td>\n",
       "      <td>1.521000e+03</td>\n",
       "      <td>1.524000e+03</td>\n",
       "      <td>1.435000e+03</td>\n",
       "      <td>...</td>\n",
       "      <td>5.540000e+02</td>\n",
       "      <td>5.000000e+00</td>\n",
       "      <td>1.300000e+01</td>\n",
       "      <td>0.000000e+00</td>\n",
       "      <td>0.000000e+00</td>\n",
       "      <td>0.000000e+00</td>\n",
       "      <td>0.000000e+00</td>\n",
       "      <td>0.000000e+00</td>\n",
       "      <td>0.000000e+00</td>\n",
       "      <td>0.000000e+00</td>\n",
       "    </tr>\n",
       "    <tr>\n",
       "      <th>75%</th>\n",
       "      <td>1.046262e+06</td>\n",
       "      <td>2.006000e+03</td>\n",
       "      <td>9.000000e+00</td>\n",
       "      <td>2.300000e+01</td>\n",
       "      <td>6.000000e+00</td>\n",
       "      <td>1.732000e+03</td>\n",
       "      <td>1.725000e+03</td>\n",
       "      <td>1.914000e+03</td>\n",
       "      <td>1.910000e+03</td>\n",
       "      <td>3.102000e+03</td>\n",
       "      <td>...</td>\n",
       "      <td>9.500000e+02</td>\n",
       "      <td>7.000000e+00</td>\n",
       "      <td>1.800000e+01</td>\n",
       "      <td>0.000000e+00</td>\n",
       "      <td>0.000000e+00</td>\n",
       "      <td>0.000000e+00</td>\n",
       "      <td>0.000000e+00</td>\n",
       "      <td>0.000000e+00</td>\n",
       "      <td>0.000000e+00</td>\n",
       "      <td>0.000000e+00</td>\n",
       "    </tr>\n",
       "    <tr>\n",
       "      <th>max</th>\n",
       "      <td>1.395016e+06</td>\n",
       "      <td>2.006000e+03</td>\n",
       "      <td>1.200000e+01</td>\n",
       "      <td>3.100000e+01</td>\n",
       "      <td>7.000000e+00</td>\n",
       "      <td>2.930000e+03</td>\n",
       "      <td>2.359000e+03</td>\n",
       "      <td>2.955000e+03</td>\n",
       "      <td>2.359000e+03</td>\n",
       "      <td>9.584000e+03</td>\n",
       "      <td>...</td>\n",
       "      <td>4.962000e+03</td>\n",
       "      <td>1.479000e+03</td>\n",
       "      <td>1.439000e+03</td>\n",
       "      <td>1.000000e+00</td>\n",
       "      <td>1.000000e+00</td>\n",
       "      <td>1.547000e+03</td>\n",
       "      <td>9.660000e+02</td>\n",
       "      <td>9.940000e+02</td>\n",
       "      <td>3.080000e+02</td>\n",
       "      <td>1.050000e+03</td>\n",
       "    </tr>\n",
       "  </tbody>\n",
       "</table>\n",
       "<p>8 rows × 25 columns</p>\n",
       "</div>"
      ],
      "text/plain": [
       "         Unnamed: 0          Year         Month    DayofMonth     DayOfWeek  \\\n",
       "count  1.395017e+06  1.395017e+06  1.395017e+06  1.395017e+06  1.395017e+06   \n",
       "mean   6.975080e+05  2.004535e+03  6.532720e+00  1.574324e+01  3.942771e+00   \n",
       "std    4.027069e+05  1.107174e+00  3.429083e+00  8.794494e+00  1.988232e+00   \n",
       "min    0.000000e+00  2.003000e+03  1.000000e+00  1.000000e+00  1.000000e+00   \n",
       "25%    3.487540e+05  2.004000e+03  4.000000e+00  8.000000e+00  2.000000e+00   \n",
       "50%    6.975080e+05  2.005000e+03  7.000000e+00  1.600000e+01  4.000000e+00   \n",
       "75%    1.046262e+06  2.006000e+03  9.000000e+00  2.300000e+01  6.000000e+00   \n",
       "max    1.395016e+06  2.006000e+03  1.200000e+01  3.100000e+01  7.000000e+00   \n",
       "\n",
       "            DepTime    CRSDepTime       ArrTime    CRSArrTime     FlightNum  \\\n",
       "count  1.370838e+06  1.395017e+06  1.368009e+06  1.395017e+06  1.395017e+06   \n",
       "mean   1.343672e+03  1.337725e+03  1.494657e+03  1.501985e+03  2.082906e+03   \n",
       "std    4.732748e+02  4.616320e+02  4.949544e+02  4.766588e+02  1.932383e+03   \n",
       "min    1.000000e+00  3.000000e+00  1.000000e+00  0.000000e+00  1.000000e+00   \n",
       "25%    9.350000e+02  9.330000e+02  1.117000e+03  1.123000e+03  5.840000e+02   \n",
       "50%    1.330000e+03  1.326000e+03  1.521000e+03  1.524000e+03  1.435000e+03   \n",
       "75%    1.732000e+03  1.725000e+03  1.914000e+03  1.910000e+03  3.102000e+03   \n",
       "max    2.930000e+03  2.359000e+03  2.955000e+03  2.359000e+03  9.584000e+03   \n",
       "\n",
       "             ...              Distance        TaxiIn       TaxiOut  \\\n",
       "count        ...          1.395017e+06  1.395017e+06  1.395017e+06   \n",
       "mean         ...          7.202732e+02  7.385074e+00  1.552721e+01   \n",
       "std          ...          5.708966e+02  3.980247e+01  1.257788e+01   \n",
       "min          ...          1.200000e+01  0.000000e+00  0.000000e+00   \n",
       "25%          ...          3.080000e+02  4.000000e+00  1.000000e+01   \n",
       "50%          ...          5.540000e+02  5.000000e+00  1.300000e+01   \n",
       "75%          ...          9.500000e+02  7.000000e+00  1.800000e+01   \n",
       "max          ...          4.962000e+03  1.479000e+03  1.439000e+03   \n",
       "\n",
       "          Cancelled      Diverted  CarrierDelay  WeatherDelay      NASDelay  \\\n",
       "count  1.395017e+06  1.395017e+06  1.261812e+06  1.261812e+06  1.261812e+06   \n",
       "mean   1.733241e-02  2.027932e-03  2.937387e+00  6.613053e-01  3.418085e+00   \n",
       "std    1.305067e-01  4.498690e-02  1.773186e+01  8.324370e+00  1.505016e+01   \n",
       "min    0.000000e+00  0.000000e+00  0.000000e+00  0.000000e+00 -6.000000e+01   \n",
       "25%    0.000000e+00  0.000000e+00  0.000000e+00  0.000000e+00  0.000000e+00   \n",
       "50%    0.000000e+00  0.000000e+00  0.000000e+00  0.000000e+00  0.000000e+00   \n",
       "75%    0.000000e+00  0.000000e+00  0.000000e+00  0.000000e+00  0.000000e+00   \n",
       "max    1.000000e+00  1.000000e+00  1.547000e+03  9.660000e+02  9.940000e+02   \n",
       "\n",
       "       SecurityDelay  LateAircraftDelay  \n",
       "count   1.261812e+06       1.261812e+06  \n",
       "mean    2.459479e-02       3.681158e+00  \n",
       "std     1.182373e+00       1.760667e+01  \n",
       "min     0.000000e+00       0.000000e+00  \n",
       "25%     0.000000e+00       0.000000e+00  \n",
       "50%     0.000000e+00       0.000000e+00  \n",
       "75%     0.000000e+00       0.000000e+00  \n",
       "max     3.080000e+02       1.050000e+03  \n",
       "\n",
       "[8 rows x 25 columns]"
      ]
     },
     "execution_count": 48,
     "metadata": {},
     "output_type": "execute_result"
    }
   ],
   "source": [
    "flight_data.describe()"
   ]
  },
  {
   "cell_type": "code",
   "execution_count": 49,
   "metadata": {
    "slideshow": {
     "slide_type": "skip"
    }
   },
   "outputs": [
    {
     "name": "stdout",
     "output_type": "stream",
     "text": [
      "<class 'pandas.core.frame.DataFrame'>\n",
      "RangeIndex: 1395017 entries, 0 to 1395016\n",
      "Data columns (total 30 columns):\n",
      "Unnamed: 0           1395017 non-null int64\n",
      "Year                 1395017 non-null int64\n",
      "Month                1395017 non-null int64\n",
      "DayofMonth           1395017 non-null int64\n",
      "DayOfWeek            1395017 non-null int64\n",
      "DepTime              1370838 non-null float64\n",
      "CRSDepTime           1395017 non-null int64\n",
      "ArrTime              1368009 non-null float64\n",
      "CRSArrTime           1395017 non-null int64\n",
      "UniqueCarrier        1395017 non-null object\n",
      "FlightNum            1395017 non-null int64\n",
      "TailNum              1393700 non-null object\n",
      "ActualElapsedTime    1368008 non-null float64\n",
      "CRSElapsedTime       1395017 non-null float64\n",
      "AirTime              1368009 non-null float64\n",
      "ArrDelay             1368008 non-null float64\n",
      "DepDelay             1370838 non-null float64\n",
      "Origin               1395017 non-null object\n",
      "Dest                 1395017 non-null object\n",
      "Distance             1395017 non-null int64\n",
      "TaxiIn               1395017 non-null int64\n",
      "TaxiOut              1395017 non-null int64\n",
      "Cancelled            1395017 non-null int64\n",
      "CancellationCode     21785 non-null object\n",
      "Diverted             1395017 non-null int64\n",
      "CarrierDelay         1261812 non-null float64\n",
      "WeatherDelay         1261812 non-null float64\n",
      "NASDelay             1261812 non-null float64\n",
      "SecurityDelay        1261812 non-null float64\n",
      "LateAircraftDelay    1261812 non-null float64\n",
      "dtypes: float64(12), int64(13), object(5)\n",
      "memory usage: 319.3+ MB\n"
     ]
    }
   ],
   "source": [
    "flight_data.info()"
   ]
  },
  {
   "cell_type": "markdown",
   "metadata": {
    "slideshow": {
     "slide_type": "subslide"
    }
   },
   "source": [
    "### Which days of the week are the busiest?"
   ]
  },
  {
   "cell_type": "code",
   "execution_count": 79,
   "metadata": {
    "slideshow": {
     "slide_type": "subslide"
    }
   },
   "outputs": [
    {
     "data": {
      "text/plain": [
       "Text(0.5,1,'Frequency of trips across different days of a week')"
      ]
     },
     "execution_count": 79,
     "metadata": {},
     "output_type": "execute_result"
    },
    {
     "data": {
      "image/png": "[encoded data removed]",
      "text/plain": [
       "<Figure size 720x360 with 1 Axes>"
      ]
     },
     "metadata": {
      "needs_background": "light"
     },
     "output_type": "display_data"
    }
   ],
   "source": [
    "plt.figure(figsize = [10, 5]) # larger figure size for subplots\n",
    "\n",
    "# histogram on left, example of too-large bin size\n",
    "bin_edges = np.arange(0, flight_data['DayOfWeek'].max()+1/3, 1/3)\n",
    "plt.hist(data = flight_data, x = 'DayOfWeek', bins = bin_edges)\n",
    "plt.xlabel('Day of the Week')\n",
    "plt.ylabel('Count')\n",
    "plt.title('Frequency of trips across different days of a week')"
   ]
  },
  {
   "cell_type": "markdown",
   "metadata": {
    "slideshow": {
     "slide_type": "fragment"
    }
   },
   "source": [
    "From the above graph, we can conclude that busy hours are mostly shared among all the days. Infact weekends seem to have less rush as compared to the rest of the days."
   ]
  },
  {
   "cell_type": "markdown",
   "metadata": {
    "slideshow": {
     "slide_type": "subslide"
    }
   },
   "source": [
    "### Which is the most sought after Carrier?"
   ]
  },
  {
   "cell_type": "code",
   "execution_count": 72,
   "metadata": {
    "slideshow": {
     "slide_type": "subslide"
    }
   },
   "outputs": [
    {
     "data": {
      "text/plain": [
       "Text(0.5,1,'Number of trips against different Carriers')"
      ]
     },
     "execution_count": 72,
     "metadata": {},
     "output_type": "execute_result"
    },
    {
     "data": {
      "image/png": "[encoded data removed]",
      "text/plain": [
       "<Figure size 720x360 with 1 Axes>"
      ]
     },
     "metadata": {
      "needs_background": "light"
     },
     "output_type": "display_data"
    }
   ],
   "source": [
    "plt.figure(figsize = [10, 5])\n",
    "carrier_order=flight_data['UniqueCarrier'].value_counts().index\n",
    "sb.countplot(data=flight_data, x='UniqueCarrier', order=carrier_order, color=base_color)\n",
    "plt.xticks(rotation=90)\n",
    "plt.xlabel('Flight Carrier Names')\n",
    "plt.ylabel('Count')\n",
    "plt.title('Number of trips against different Carriers')"
   ]
  },
  {
   "cell_type": "markdown",
   "metadata": {
    "slideshow": {
     "slide_type": "fragment"
    }
   },
   "source": [
    "The South Western Airlines can be seen to be the most sought after airlines"
   ]
  },
  {
   "cell_type": "code",
   "execution_count": null,
   "metadata": {
    "slideshow": {
     "slide_type": "skip"
    }
   },
   "outputs": [],
   "source": [
    "flight_data['Cancelled'] = flight_data['Cancelled'].astype('category')"
   ]
  },
  {
   "cell_type": "code",
   "execution_count": 3,
   "metadata": {
    "slideshow": {
     "slide_type": "skip"
    }
   },
   "outputs": [],
   "source": [
    "df=flight_data.groupby('Dest')['Cancelled'].sum()"
   ]
  },
  {
   "cell_type": "code",
   "execution_count": 4,
   "metadata": {
    "slideshow": {
     "slide_type": "skip"
    }
   },
   "outputs": [
    {
     "data": {
      "text/plain": [
       "Dest\n",
       "ABE      23\n",
       "ABI      10\n",
       "ABQ      52\n",
       "ABY       9\n",
       "ACK       4\n",
       "ACT       9\n",
       "ACV      18\n",
       "ACY       5\n",
       "ADK       4\n",
       "ADQ      13\n",
       "AEX      17\n",
       "AGS      34\n",
       "AKN       5\n",
       "ALB      37\n",
       "AMA      21\n",
       "ANC     122\n",
       "APF       0\n",
       "ASE      10\n",
       "ATL    1829\n",
       "ATW      16\n",
       "AUS      91\n",
       "AVL      21\n",
       "AVP      14\n",
       "AZO      29\n",
       "BDL      94\n",
       "BET       5\n",
       "BFL       7\n",
       "BGM       8\n",
       "BGR      19\n",
       "BHM      50\n",
       "       ... \n",
       "SRQ      15\n",
       "STL     194\n",
       "STT       6\n",
       "STX       1\n",
       "SUN      21\n",
       "SWF       9\n",
       "SYR      34\n",
       "TEX       2\n",
       "TLH      17\n",
       "TOL      38\n",
       "TPA     129\n",
       "TRI      29\n",
       "TTN       0\n",
       "TUL      61\n",
       "TUP       3\n",
       "TUS      20\n",
       "TVC      12\n",
       "TWF      13\n",
       "TXK      10\n",
       "TYR       6\n",
       "TYS      45\n",
       "VCT       1\n",
       "VIS       9\n",
       "VLD       6\n",
       "VPS      27\n",
       "WRG       8\n",
       "WYS       0\n",
       "XNA      81\n",
       "YAK       9\n",
       "YUM       4\n",
       "Name: Cancelled, Length: 299, dtype: int64"
      ]
     },
     "execution_count": 4,
     "metadata": {},
     "output_type": "execute_result"
    }
   ],
   "source": [
    "df"
   ]
  },
  {
   "cell_type": "markdown",
   "metadata": {
    "slideshow": {
     "slide_type": "subslide"
    }
   },
   "source": [
    "### Does Distance impact Arrival time of an airline? Is it seen that more the distance causes more delays in arrival?"
   ]
  },
  {
   "cell_type": "code",
   "execution_count": 23,
   "metadata": {
    "slideshow": {
     "slide_type": "subslide"
    }
   },
   "outputs": [
    {
     "data": {
      "text/plain": [
       "Text(0,0.5,'Arrival Delay')"
      ]
     },
     "execution_count": 23,
     "metadata": {},
     "output_type": "execute_result"
    },
    {
     "data": {
      "image/png": "[encoded data removed]",
      "text/plain": [
       "<Figure size 432x288 with 1 Axes>"
      ]
     },
     "metadata": {
      "needs_background": "light"
     },
     "output_type": "display_data"
    }
   ],
   "source": [
    "sb.regplot(data = flight_data, x = 'Distance', y = 'ArrDelay', fit_reg = False,\n",
    "           x_jitter = 0.2, y_jitter = 0.2, scatter_kws = {'alpha' : 1/3})\n",
    "plt.title('Distance vs Arrival Delay')\n",
    "plt.xlabel('Distance')\n",
    "plt.ylabel('Arrival Delay')"
   ]
  },
  {
   "cell_type": "markdown",
   "metadata": {
    "slideshow": {
     "slide_type": "fragment"
    }
   },
   "source": [
    "We can conclude from above that more distance does not necessarily imply more delays."
   ]
  },
  {
   "cell_type": "markdown",
   "metadata": {
    "slideshow": {
     "slide_type": "subslide"
    }
   },
   "source": [
    "### Which is the most dominant factor for flight cancellations? Has the impact of the factors changed over the years?"
   ]
  },
  {
   "cell_type": "code",
   "execution_count": 67,
   "metadata": {
    "slideshow": {
     "slide_type": "subslide"
    }
   },
   "outputs": [
    {
     "data": {
      "text/plain": [
       "Text(0.5,1,'Change of factors for cancellations across the years')"
      ]
     },
     "execution_count": 67,
     "metadata": {},
     "output_type": "execute_result"
    },
    {
     "data": {
      "image/png": "[encoded data removed]",
      "text/plain": [
       "<Figure size 432x288 with 1 Axes>"
      ]
     },
     "metadata": {
      "needs_background": "light"
     },
     "output_type": "display_data"
    }
   ],
   "source": [
    "sb.countplot(data = flight_data, x = 'Year', hue = 'CancellationCode')\n",
    "labels=['Carrier','Weather','NAS','Security']\n",
    "plt.legend(labels, loc = 2, ncol = 1, framealpha = 0.5, title = \"Code\")\n",
    "plt.xlabel('Year')\n",
    "plt.ylabel('Count')\n",
    "plt.title('Change of factors for cancellations across the years')\n"
   ]
  },
  {
   "cell_type": "markdown",
   "metadata": {
    "slideshow": {
     "slide_type": "fragment"
    }
   },
   "source": [
    "The most dominant factor is NAS. The impact of the factors seems to be increasing with the passing years with NAS still being the highest factor."
   ]
  },
  {
   "cell_type": "code",
   "execution_count": null,
   "metadata": {},
   "outputs": [],
   "source": [
    "!jupyter nbconvert Flight-Explanatory.ipynb --to slides --template output-toggle.tpl --post serve"
   ]
  },
  {
   "cell_type": "code",
   "execution_count": null,
   "metadata": {},
   "outputs": [],
   "source": []
  }
 ],
 "metadata": {
  "celltoolbar": "Slideshow",
  "kernelspec": {
   "display_name": "Python 3",
   "language": "python",
   "name": "python3"
  },
  "language_info": {
   "codemirror_mode": {
    "name": "ipython",
    "version": 3
   },
   "file_extension": ".py",
   "mimetype": "text/x-python",
   "name": "python",
   "nbconvert_exporter": "python",
   "pygments_lexer": "ipython3",
   "version": "3.7.1"
  }
 },
 "nbformat": 4,
 "nbformat_minor": 2
}
